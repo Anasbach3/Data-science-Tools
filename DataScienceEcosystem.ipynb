{
 "cells": [
  {
   "cell_type": "markdown",
   "id": "0445d521-edc1-4955-bd31-0d6e8d4da155",
   "metadata": {
    "tags": []
   },
   "source": [
    "# Data Science Tools and Ecosystem"
   ]
  },
  {
   "cell_type": "markdown",
   "id": "bdf74526-6cd6-4d13-a533-511caf6148e2",
   "metadata": {},
   "source": [
    "## In this notebook, Data Science Tools and Ecosystem are summarized."
   ]
  },
  {
   "cell_type": "markdown",
   "id": "b6168ad4-9bf7-4792-9b74-71290ea6e192",
   "metadata": {},
   "source": [
    "### Objectives:\n",
    "#### -List popular languages for Data Science\n",
    "#### -Create Tables in Markdown\n",
    "#### -identify the popular used languages in data science\n",
    "#### -identify the commomly used libraries in data science"
   ]
  },
  {
   "cell_type": "markdown",
   "id": "4a1264c4-e2ea-4914-af88-d64cdd914c83",
   "metadata": {},
   "source": [
    "### Some of the popular languages that Data Scientists use are:\n",
    "#### 1- python\n",
    "#### 2- java\n",
    "#### 3- C++\n",
    "#### 4- swift"
   ]
  },
  {
   "cell_type": "markdown",
   "id": "048bdb4c-7b91-4077-82f9-7246629b067b",
   "metadata": {
    "jp-MarkdownHeadingCollapsed": true,
    "tags": []
   },
   "source": [
    "### Some of the commonly used libraries used by Data Scientists include:\n",
    "#### 1-pandas\n",
    "#### 2-numpy\n",
    "#### 3-matplotlib\n",
    "#### 4-seaborn"
   ]
  },
  {
   "cell_type": "markdown",
   "id": "66c782d3-8fb2-45e9-afae-995142d71a8e",
   "metadata": {},
   "source": [
    "| Data Science Tools       |\n",
    "|--------------------------|\n",
    "| Jupyter Notebook          |\n",
    "| RStudio                   |\n",
    "| Apache Zeppelin           |"
   ]
  },
  {
   "cell_type": "markdown",
   "id": "1a4a927e-dbce-4c3c-97c5-e89aa1f74cc4",
   "metadata": {},
   "source": [
    "### Below are a few examples of evaluating arithmetic expressions in Python ."
   ]
  },
  {
   "cell_type": "code",
   "execution_count": 7,
   "id": "f3d1fad5-1524-4b7a-b28e-331e30a2d115",
   "metadata": {
    "tags": []
   },
   "outputs": [
    {
     "data": {
      "text/plain": [
       "17"
      ]
     },
     "execution_count": 7,
     "metadata": {},
     "output_type": "execute_result"
    }
   ],
   "source": [
    "# This is a simple arithmetic expression to multiply then add integers\n",
    "(3 * 4) + 5"
   ]
  },
  {
   "cell_type": "code",
   "execution_count": 8,
   "id": "aa42e99b-f9a8-41c9-b65c-b494bd7d246a",
   "metadata": {
    "tags": []
   },
   "outputs": [
    {
     "data": {
      "text/plain": [
       "3.3333333333333335"
      ]
     },
     "execution_count": 8,
     "metadata": {},
     "output_type": "execute_result"
    }
   ],
   "source": [
    "# This will convert 200 minutes to hours by dividing by 60\n",
    "200 / 60"
   ]
  },
  {
   "cell_type": "markdown",
   "id": "9b7d0a3b-2e72-4662-8f45-bdac08bba26a",
   "metadata": {},
   "source": [
    "## Author\n",
    "ANAS BACH"
   ]
  },
  {
   "cell_type": "code",
   "execution_count": null,
   "id": "710155ee-5eea-49d9-acb8-324b82020534",
   "metadata": {},
   "outputs": [],
   "source": []
  }
 ],
 "metadata": {
  "kernelspec": {
   "display_name": "Python",
   "language": "python",
   "name": "conda-env-python-py"
  },
  "language_info": {
   "codemirror_mode": {
    "name": "ipython",
    "version": 3
   },
   "file_extension": ".py",
   "mimetype": "text/x-python",
   "name": "python",
   "nbconvert_exporter": "python",
   "pygments_lexer": "ipython3",
   "version": "3.7.12"
  }
 },
 "nbformat": 4,
 "nbformat_minor": 5
}
